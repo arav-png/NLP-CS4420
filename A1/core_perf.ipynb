{
 "cells": [
  {
   "cell_type": "code",
   "execution_count": null,
   "metadata": {},
   "outputs": [],
   "source": [
    "import pandas as pd\n"
   ]
  },
  {
   "cell_type": "code",
   "execution_count": 39,
   "metadata": {},
   "outputs": [],
   "source": [
    "df = pd.read_csv('articles_coref.csv')"
   ]
  },
  {
   "cell_type": "code",
   "execution_count": 40,
   "metadata": {},
   "outputs": [
    {
     "name": "stdout",
     "output_type": "stream",
     "text": [
      "[{'chainID': 161, 'mentions': [{'text': 'Delhi', 'sentence': 22, 'start': 12, 'end': 13}, {'text': 'Delhi', 'sentence': 10, 'start': 11, 'end': 12}, {'text': 'Delhi', 'sentence': 8, 'start': 16, 'end': 17}, {'text': 'Delhi', 'sentence': 10, 'start': 19, 'end': 20}], 'representative': 'Delhi'}, {'chainID': 102, 'mentions': [{'text': 'The AAP leaders', 'sentence': 13, 'start': 1, 'end': 4}, {'text': 'they', 'sentence': 13, 'start': 9, 'end': 10}], 'representative': 'The AAP leaders'}, {'chainID': 166, 'mentions': [{'text': 'the AAP ’s', 'sentence': 12, 'start': 19, 'end': 22}, {'text': 'the AAP ’s', 'sentence': 22, 'start': 29, 'end': 32}, {'text': 'the AAP ’s', 'sentence': 12, 'start': 12, 'end': 15}], 'representative': 'the AAP ’s'}, {'chainID': 73, 'mentions': [{'text': 'the crowd', 'sentence': 8, 'start': 7, 'end': 9}, {'text': 'us', 'sentence': 8, 'start': 27, 'end': 28}], 'representative': 'the crowd'}, {'chainID': 105, 'mentions': [{'text': 'Prime Minister Narendra Modi', 'sentence': 0, 'start': 11, 'end': 15}, {'text': 'my', 'sentence': 8, 'start': 22, 'end': 23}, {'text': 'my', 'sentence': 9, 'start': 7, 'end': 8}, {'text': 'he', 'sentence': 11, 'start': 22, 'end': 23}, {'text': 'his', 'sentence': 1, 'start': 1, 'end': 2}, {'text': 'I', 'sentence': 1, 'start': 33, 'end': 34}, {'text': 'he', 'sentence': 13, 'start': 21, 'end': 22}, {'text': 'he', 'sentence': 1, 'start': 24, 'end': 25}, {'text': 'I', 'sentence': 9, 'start': 0, 'end': 1}, {'text': 'I', 'sentence': 9, 'start': 3, 'end': 4}], 'representative': 'Prime Minister Narendra Modi'}, {'chainID': 44, 'mentions': [{'text': 'Ms. Sitharaman', 'sentence': 4, 'start': 27, 'end': 29}, {'text': 'Finance Minister Nirmala Sitharaman', 'sentence': 0, 'start': 6, 'end': 10}], 'representative': 'Ms. Sitharaman'}, {'chainID': 172, 'mentions': [{'text': 'their', 'sentence': 23, 'start': 8, 'end': 9}, {'text': 'people', 'sentence': 23, 'start': 1, 'end': 2}], 'representative': 'their'}, {'chainID': 109, 'mentions': [{'text': 'The MLAs', 'sentence': 14, 'start': 0, 'end': 2}, {'text': 'the eight AAP MLAs joining the BJP days ahead of the election', 'sentence': 13, 'start': 26, 'end': 38}], 'representative': 'The MLAs'}, {'chainID': 173, 'mentions': [{'text': 'the BJP', 'sentence': 0, 'start': 17, 'end': 19}, {'text': 'he', 'sentence': 23, 'start': 11, 'end': 12}, {'text': 'BJP', 'sentence': 5, 'start': 1, 'end': 2}, {'text': 'the Indira Gandhi government', 'sentence': 18, 'start': 1, 'end': 5}, {'text': 'He', 'sentence': 22, 'start': 0, 'end': 1}, {'text': 'The BJP government', 'sentence': 5, 'start': 0, 'end': 3}, {'text': 'the government', 'sentence': 17, 'start': 24, 'end': 26}, {'text': 'the government', 'sentence': 19, 'start': 23, 'end': 25}, {'text': 'BJP', 'sentence': 13, 'start': 32, 'end': 33}, {'text': 'the BJP', 'sentence': 22, 'start': 6, 'end': 8}, {'text': 'the BJP', 'sentence': 15, 'start': 30, 'end': 32}, {'text': 'BJP', 'sentence': 1, 'start': 19, 'end': 20}, {'text': 'the Nehru government', 'sentence': 17, 'start': 1, 'end': 4}, {'text': 'BJP', 'sentence': 6, 'start': 31, 'end': 32}, {'text': 'BJP', 'sentence': 21, 'start': 1, 'end': 2}, {'text': 'BJP', 'sentence': 19, 'start': 5, 'end': 6}, {'text': 'the BJP government', 'sentence': 19, 'start': 4, 'end': 7}, {'text': 'the BJP', 'sentence': 23, 'start': 3, 'end': 5}], 'representative': 'the BJP'}, {'chainID': 143, 'mentions': [{'text': 'your', 'sentence': 17, 'start': 18, 'end': 19}, {'text': 'you', 'sentence': 18, 'start': 6, 'end': 7}], 'representative': 'your'}, {'chainID': 112, 'mentions': [{'text': 'the election', 'sentence': 13, 'start': 36, 'end': 38}, {'text': 'the election', 'sentence': 14, 'start': 11, 'end': 13}], 'representative': 'the election'}, {'chainID': 178, 'mentions': [{'text': 'them', 'sentence': 23, 'start': 28, 'end': 29}, {'text': 'the party', 'sentence': 6, 'start': 13, 'end': 15}, {'text': 'the party', 'sentence': 13, 'start': 6, 'end': 8}, {'text': 'the party', 'sentence': 23, 'start': 17, 'end': 19}, {'text': 'the Aam Aadmi Party', 'sentence': 6, 'start': 2, 'end': 6}], 'representative': 'them'}, {'chainID': 87, 'mentions': [{'text': 'A “ double - engine government ”', 'sentence': 10, 'start': 0, 'end': 7}, {'text': 'the AAP government', 'sentence': 11, 'start': 4, 'end': 7}], 'representative': 'A “ double - engine government ”'}, {'chainID': 183, 'mentions': [{'text': 'Mr. Modi', 'sentence': 6, 'start': 7, 'end': 9}, {'text': 'Modi', 'sentence': 3, 'start': 12, 'end': 13}, {'text': 'He', 'sentence': 16, 'start': 0, 'end': 1}, {'text': 'Mr. Modi', 'sentence': 24, 'start': 9, 'end': 11}, {'text': 'Modi ’s', 'sentence': 0, 'start': 35, 'end': 37}, {'text': 'Mr. Modi', 'sentence': 15, 'start': 5, 'end': 7}, {'text': 'me', 'sentence': 16, 'start': 5, 'end': 6}, {'text': 'he', 'sentence': 5, 'start': 17, 'end': 18}, {'text': 'Mr. Modi', 'sentence': 4, 'start': 21, 'end': 23}, {'text': 'you', 'sentence': 16, 'start': 10, 'end': 11}], 'representative': 'Mr. Modi'}, {'chainID': 184, 'mentions': [{'text': 'the Budget', 'sentence': 23, 'start': 23, 'end': 25}, {'text': 'the Union Budget presented by Finance Minister Nirmala Sitharaman', 'sentence': 0, 'start': 1, 'end': 10}, {'text': 'The Budget', 'sentence': 3, 'start': 0, 'end': 2}, {'text': 'the Budget', 'sentence': 24, 'start': 13, 'end': 15}, {'text': 'the Budget', 'sentence': 15, 'start': 26, 'end': 28}, {'text': 'the Budget', 'sentence': 0, 'start': 27, 'end': 29}], 'representative': 'the Budget'}, {'chainID': 153, 'mentions': [{'text': 'the Congress', 'sentence': 15, 'start': 2, 'end': 4}, {'text': 'Congress', 'sentence': 20, 'start': 0, 'end': 1}, {'text': 'Congress', 'sentence': 15, 'start': 10, 'end': 11}], 'representative': 'the Congress'}, {'chainID': 185, 'mentions': [{'text': 'traders', 'sentence': 24, 'start': 7, 'end': 8}, {'text': 'them', 'sentence': 24, 'start': 20, 'end': 21}], 'representative': 'traders'}, {'chainID': 27, 'mentions': [{'text': 'the country', 'sentence': 0, 'start': 24, 'end': 26}, {'text': 'the country ’s', 'sentence': 1, 'start': 41, 'end': 44}], 'representative': 'the country'}, {'chainID': 28, 'mentions': [{'text': 'the country ’s four pillars', 'sentence': 1, 'start': 41, 'end': 46}, {'text': 'These pillars', 'sentence': 2, 'start': 0, 'end': 2}], 'representative': 'the country ’s four pillars'}, {'chainID': 157, 'mentions': [{'text': 'Congress governments', 'sentence': 20, 'start': 0, 'end': 2}, {'text': 'their', 'sentence': 20, 'start': 7, 'end': 8}], 'representative': 'Congress governments'}, {'chainID': 126, 'mentions': [{'text': 'the middle class', 'sentence': 15, 'start': 13, 'end': 16}, {'text': 'their', 'sentence': 15, 'start': 18, 'end': 19}, {'text': 'the middle class', 'sentence': 15, 'start': 40, 'end': 43}], 'representative': 'the middle class'}]\n"
     ]
    }
   ],
   "source": [
    "print(df['coref_chains'][0])"
   ]
  },
  {
   "cell_type": "code",
   "execution_count": null,
   "metadata": {},
   "outputs": [],
   "source": [
    "df = df.iloc[:15]\n",
    "sub_df = df[['article_id', 'coref_chains']]"
   ]
  },
  {
   "cell_type": "code",
   "execution_count": 16,
   "metadata": {},
   "outputs": [],
   "source": [
    "sub_df.to_csv('articles_coref_sample.csv', index=False)"
   ]
  },
  {
   "cell_type": "code",
   "execution_count": 19,
   "metadata": {},
   "outputs": [],
   "source": [
    "df = sub_df\n"
   ]
  },
  {
   "cell_type": "code",
   "execution_count": null,
   "metadata": {},
   "outputs": [],
   "source": [
    "df['core_chains'] = None"
   ]
  },
  {
   "cell_type": "code",
   "execution_count": 31,
   "metadata": {},
   "outputs": [],
   "source": [
    "df2 = pd.read_csv('coref_annotations.csv', encoding='ISO-8859-1')\n"
   ]
  },
  {
   "cell_type": "code",
   "execution_count": 42,
   "metadata": {},
   "outputs": [],
   "source": [
    "df = df.join(df2[['core_chain_annotations']])\n"
   ]
  },
  {
   "cell_type": "code",
   "execution_count": 43,
   "metadata": {},
   "outputs": [
    {
     "data": {
      "text/html": [
       "<div>\n",
       "<style scoped>\n",
       "    .dataframe tbody tr th:only-of-type {\n",
       "        vertical-align: middle;\n",
       "    }\n",
       "\n",
       "    .dataframe tbody tr th {\n",
       "        vertical-align: top;\n",
       "    }\n",
       "\n",
       "    .dataframe thead th {\n",
       "        text-align: right;\n",
       "    }\n",
       "</style>\n",
       "<table border=\"1\" class=\"dataframe\">\n",
       "  <thead>\n",
       "    <tr style=\"text-align: right;\">\n",
       "      <th></th>\n",
       "      <th>links</th>\n",
       "      <th>articles</th>\n",
       "      <th>titles</th>\n",
       "      <th>pos_tags</th>\n",
       "      <th>ner_tags</th>\n",
       "      <th>coref_chains</th>\n",
       "      <th>core_chain_annotations</th>\n",
       "    </tr>\n",
       "  </thead>\n",
       "  <tbody>\n",
       "    <tr>\n",
       "      <th>0</th>\n",
       "      <td>https://www.thehindu.com/elections/delhi-assem...</td>\n",
       "      <td>Lauding the Union Budget presented by Finance ...</td>\n",
       "      <td>\\nModi attacks AAP, lauds ‘people’s Budget’ in...</td>\n",
       "      <td>[('Lauding', 'VERB'), ('the', 'DET'), ('Union'...</td>\n",
       "      <td>[('the Union Budget', 'ORG'), ('Finance', 'ORG...</td>\n",
       "      <td>[{'chainID': 161, 'mentions': [{'text': 'Delhi...</td>\n",
       "      <td>[\\n  {\\n    \"chainID\": 1,\\n    \"representative...</td>\n",
       "    </tr>\n",
       "    <tr>\n",
       "      <th>1</th>\n",
       "      <td>https://www.thehindu.com/elections/delhi-assem...</td>\n",
       "      <td>The EVMs and VVPAT machines used in the Delhi ...</td>\n",
       "      <td>\\nEVMs kept in strongrooms with three-tier sec...</td>\n",
       "      <td>[('The', 'DET'), ('EVMs', 'PROPN'), ('and', 'C...</td>\n",
       "      <td>[('VVPAT', 'ORG'), ('the Delhi Assembly', 'ORG...</td>\n",
       "      <td>[{'chainID': 54, 'mentions': [{'text': 'Delhi ...</td>\n",
       "      <td>[\\n  {\\n    \"chainID\": 1,\\n    \"representative...</td>\n",
       "    </tr>\n",
       "    <tr>\n",
       "      <th>2</th>\n",
       "      <td>https://www.thehindu.com/elections/delhi-assem...</td>\n",
       "      <td>A day before polling for the 70-member Delhi A...</td>\n",
       "      <td>\\nAtishi, relatives of Bidhuri booked for poll...</td>\n",
       "      <td>[('A', 'DET'), ('day', 'NOUN'), ('before', 'AD...</td>\n",
       "      <td>[('70', 'CARDINAL'), ('Delhi Assembly', 'PERSO...</td>\n",
       "      <td>[{'chainID': 98, 'mentions': [{'text': 'she', ...</td>\n",
       "      <td>[\\n  {\\n    \"chainID\": 1,\\n    \"representative...</td>\n",
       "    </tr>\n",
       "    <tr>\n",
       "      <th>3</th>\n",
       "      <td>https://www.thehindu.com/elections/delhi-assem...</td>\n",
       "      <td>Sitting next to his stall on a packed afternoo...</td>\n",
       "      <td>\\nBeset with dip in profits, inadequate infras...</td>\n",
       "      <td>[('Sitting', 'VERB'), ('next', 'ADV'), ('to', ...</td>\n",
       "      <td>[('afternoon', 'TIME'), ('Ghazipur', 'PERSON')...</td>\n",
       "      <td>[{'chainID': 18, 'mentions': [{'text': 'his', ...</td>\n",
       "      <td>[\\n  {\\n    \"chainID\": 1,\\n    \"representative...</td>\n",
       "    </tr>\n",
       "    <tr>\n",
       "      <th>4</th>\n",
       "      <td>https://www.thehindu.com/elections/delhi-assem...</td>\n",
       "      <td>As she drives her e-rickshaw through the stree...</td>\n",
       "      <td>\\nInflation, civic amenities, representation, ...</td>\n",
       "      <td>[('As', 'SCONJ'), ('she', 'PRON'), ('drives', ...</td>\n",
       "      <td>[('south Delhi’s Khanpur', 'GPE'), ('Savitri',...</td>\n",
       "      <td>[{'chainID': 97, 'mentions': [{'text': 'women'...</td>\n",
       "      <td>[\\n  {\\n    \"chainID\": 1,\\n    \"representative...</td>\n",
       "    </tr>\n",
       "  </tbody>\n",
       "</table>\n",
       "</div>"
      ],
      "text/plain": [
       "                                               links  \\\n",
       "0  https://www.thehindu.com/elections/delhi-assem...   \n",
       "1  https://www.thehindu.com/elections/delhi-assem...   \n",
       "2  https://www.thehindu.com/elections/delhi-assem...   \n",
       "3  https://www.thehindu.com/elections/delhi-assem...   \n",
       "4  https://www.thehindu.com/elections/delhi-assem...   \n",
       "\n",
       "                                            articles  \\\n",
       "0  Lauding the Union Budget presented by Finance ...   \n",
       "1  The EVMs and VVPAT machines used in the Delhi ...   \n",
       "2  A day before polling for the 70-member Delhi A...   \n",
       "3  Sitting next to his stall on a packed afternoo...   \n",
       "4  As she drives her e-rickshaw through the stree...   \n",
       "\n",
       "                                              titles  \\\n",
       "0  \\nModi attacks AAP, lauds ‘people’s Budget’ in...   \n",
       "1  \\nEVMs kept in strongrooms with three-tier sec...   \n",
       "2  \\nAtishi, relatives of Bidhuri booked for poll...   \n",
       "3  \\nBeset with dip in profits, inadequate infras...   \n",
       "4  \\nInflation, civic amenities, representation, ...   \n",
       "\n",
       "                                            pos_tags  \\\n",
       "0  [('Lauding', 'VERB'), ('the', 'DET'), ('Union'...   \n",
       "1  [('The', 'DET'), ('EVMs', 'PROPN'), ('and', 'C...   \n",
       "2  [('A', 'DET'), ('day', 'NOUN'), ('before', 'AD...   \n",
       "3  [('Sitting', 'VERB'), ('next', 'ADV'), ('to', ...   \n",
       "4  [('As', 'SCONJ'), ('she', 'PRON'), ('drives', ...   \n",
       "\n",
       "                                            ner_tags  \\\n",
       "0  [('the Union Budget', 'ORG'), ('Finance', 'ORG...   \n",
       "1  [('VVPAT', 'ORG'), ('the Delhi Assembly', 'ORG...   \n",
       "2  [('70', 'CARDINAL'), ('Delhi Assembly', 'PERSO...   \n",
       "3  [('afternoon', 'TIME'), ('Ghazipur', 'PERSON')...   \n",
       "4  [('south Delhi’s Khanpur', 'GPE'), ('Savitri',...   \n",
       "\n",
       "                                        coref_chains  \\\n",
       "0  [{'chainID': 161, 'mentions': [{'text': 'Delhi...   \n",
       "1  [{'chainID': 54, 'mentions': [{'text': 'Delhi ...   \n",
       "2  [{'chainID': 98, 'mentions': [{'text': 'she', ...   \n",
       "3  [{'chainID': 18, 'mentions': [{'text': 'his', ...   \n",
       "4  [{'chainID': 97, 'mentions': [{'text': 'women'...   \n",
       "\n",
       "                              core_chain_annotations  \n",
       "0  [\\n  {\\n    \"chainID\": 1,\\n    \"representative...  \n",
       "1  [\\n  {\\n    \"chainID\": 1,\\n    \"representative...  \n",
       "2  [\\n  {\\n    \"chainID\": 1,\\n    \"representative...  \n",
       "3  [\\n  {\\n    \"chainID\": 1,\\n    \"representative...  \n",
       "4  [\\n  {\\n    \"chainID\": 1,\\n    \"representative...  "
      ]
     },
     "execution_count": 43,
     "metadata": {},
     "output_type": "execute_result"
    }
   ],
   "source": [
    "df.head()"
   ]
  },
  {
   "cell_type": "code",
   "execution_count": null,
   "metadata": {},
   "outputs": [],
   "source": [
    "import re\n",
    "import json\n",
    "import ast\n",
    "import pandas as pd\n",
    "from fuzzywuzzy import process  \n",
    "\n",
    "def normalize_text(text): \n",
    "    text = text.lower().strip()\n",
    "    text = re.sub(r\"[^\\w\\s']\", \"\", text)  # Remove special characters except apostrophes\n",
    "    text = text.replace(\"’\", \"'\")  # Normalize apostrophes\n",
    "    return text\n",
    "\n",
    "def extract_coref_info(coref_data, is_json=True):\n",
    "   \n",
    "    coref_info = set()\n",
    "    # If data is already a list, use it directly\n",
    "    if isinstance(coref_data, list):\n",
    "        coref_list = coref_data  \n",
    "    elif isinstance(coref_data, str) and coref_data.strip():\n",
    "        try:\n",
    "            if coref_data.startswith(\"[\") and coref_data.endswith(\"]\"):\n",
    "                coref_list = ast.literal_eval(coref_data)  \n",
    "            else:\n",
    "                coref_list = json.loads(coref_data)  # Parse JSON string\n",
    "        except (json.JSONDecodeError, SyntaxError):\n",
    "            print(f\"Error: Failed to parse data. Sample: {coref_data[:200]}\")\n",
    "            return coref_info\n",
    "    else:\n",
    "        print(\"Warning: Data is neither a valid list nor a JSON string.\")\n",
    "        return coref_info\n",
    "\n",
    "    # Extract and normalize mentions\n",
    "    for chain in coref_list:\n",
    "        mentions = {normalize_text(mention[\"text\"]) for mention in chain.get(\"mentions\", [])}\n",
    "        coref_info.update(mentions)\n",
    "    return coref_info\n",
    "\n",
    "def evaluate_coref_annotations(df):\n",
    "    \"\"\"Evaluate coreference annotations using precision, recall, F1-score, and accuracy.\"\"\"\n",
    "    precision_scores = []\n",
    "    recall_scores = []\n",
    "    f1_scores = []\n",
    "    accuracy_scores = []\n",
    "\n",
    "    for _, row in df.iterrows():\n",
    "        # Process coref_chains which are python lists and core_chain_annotations which are json strings\n",
    "        coref_mentions = extract_coref_info(row[\"coref_chains\"], is_json=False)\n",
    "        annotations_mentions = extract_coref_info(row[\"core_chain_annotations\"], is_json=True)\n",
    "\n",
    "        # Debug prints for verification\n",
    "        print(f\"Coref Mentions: {coref_mentions}\")\n",
    "        print(f\"Annotated Mentions: {annotations_mentions}\")\n",
    "\n",
    "        # Use fuzzy matching to with 80% similarity \n",
    "        matched_coref_mentions = set()\n",
    "        for mention in annotations_mentions:\n",
    "            result = process.extractOne(mention, coref_mentions, score_cutoff=80)\n",
    "            if result is not None:\n",
    "                best_match, score = result\n",
    "                matched_coref_mentions.add(best_match)\n",
    "\n",
    "        # Compute True Positives (TP), False Positives (FP), False Negatives (FN)\n",
    "        tp = len(matched_coref_mentions)\n",
    "        fp = len(coref_mentions - matched_coref_mentions)\n",
    "        fn = len(annotations_mentions - matched_coref_mentions)\n",
    "\n",
    "        precision = tp / (tp + fp) if (tp + fp) > 0 else 0\n",
    "        recall = tp / (tp + fn) if (tp + fn) > 0 else 0\n",
    "        f1 = 2 * (precision * recall) / (precision + recall) if (precision + recall) > 0 else 0\n",
    "        accuracy = tp / (tp + fp + fn) if (tp + fp + fn) > 0 else 0\n",
    "\n",
    "        precision_scores.append(precision)\n",
    "        recall_scores.append(recall)\n",
    "        f1_scores.append(f1)\n",
    "        accuracy_scores.append(accuracy)\n",
    "\n",
    "    # Average scores across all rows\n",
    "    metrics_result = {\n",
    "        \"Precision\": sum(precision_scores) / len(precision_scores) if precision_scores else 0,\n",
    "        \"Recall\": sum(recall_scores) / len(recall_scores) if recall_scores else 0,\n",
    "        \"F1-score\": sum(f1_scores) / len(f1_scores) if f1_scores else 0,\n",
    "        \"Accuracy\": sum(accuracy_scores) / len(accuracy_scores) if accuracy_scores else 0,\n",
    "    }\n",
    "    return metrics_result\n",
    "evaluation_results = evaluate_coref_annotations(df) #save the evaluations metrics"
   ]
  },
  {
   "cell_type": "code",
   "execution_count": null,
   "metadata": {},
   "outputs": [
    {
     "name": "stdout",
     "output_type": "stream",
     "text": [
      "\n",
      "Evaluation Results:\n",
      "Precision: 0.4408\n",
      "Recall: 0.4480\n",
      "F1-score: 0.4183\n",
      "Accuracy: 0.2728\n"
     ]
    }
   ],
   "source": [
    "print(\"\\nEvaluation Results:\")\n",
    "for metric, score in evaluation_results.items():\n",
    "    print(f\"{metric}: {score:.4f}\")\n",
    "    "
   ]
  }
 ],
 "metadata": {
  "kernelspec": {
   "display_name": ".venv",
   "language": "python",
   "name": "python3"
  },
  "language_info": {
   "codemirror_mode": {
    "name": "ipython",
    "version": 3
   },
   "file_extension": ".py",
   "mimetype": "text/x-python",
   "name": "python",
   "nbconvert_exporter": "python",
   "pygments_lexer": "ipython3",
   "version": "3.9.6"
  }
 },
 "nbformat": 4,
 "nbformat_minor": 2
}
